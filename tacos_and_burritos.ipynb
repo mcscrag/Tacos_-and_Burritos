{
 "cells": [
  {
   "cell_type": "code",
   "execution_count": 163,
   "id": "25e751e8",
   "metadata": {},
   "outputs": [],
   "source": [
    "import pandas as pd\n",
    "import numpy as np\n",
    "from scipy import stats"
   ]
  },
  {
   "cell_type": "code",
   "execution_count": 164,
   "id": "637b96cc",
   "metadata": {},
   "outputs": [],
   "source": [
    "df = pd.read_csv('tacos and burritos.csv')"
   ]
  },
  {
   "cell_type": "code",
   "execution_count": 165,
   "id": "e21b16b8",
   "metadata": {},
   "outputs": [
    {
     "data": {
      "text/html": [
       "<div>\n",
       "<style scoped>\n",
       "    .dataframe tbody tr th:only-of-type {\n",
       "        vertical-align: middle;\n",
       "    }\n",
       "\n",
       "    .dataframe tbody tr th {\n",
       "        vertical-align: top;\n",
       "    }\n",
       "\n",
       "    .dataframe thead th {\n",
       "        text-align: right;\n",
       "    }\n",
       "</style>\n",
       "<table border=\"1\" class=\"dataframe\">\n",
       "  <thead>\n",
       "    <tr style=\"text-align: right;\">\n",
       "      <th></th>\n",
       "      <th>id</th>\n",
       "      <th>address</th>\n",
       "      <th>categories</th>\n",
       "      <th>city</th>\n",
       "      <th>country</th>\n",
       "      <th>cuisines</th>\n",
       "      <th>dateAdded</th>\n",
       "      <th>dateUpdated</th>\n",
       "      <th>keys</th>\n",
       "      <th>latitude</th>\n",
       "      <th>...</th>\n",
       "      <th>Unnamed: 226</th>\n",
       "      <th>Unnamed: 227</th>\n",
       "      <th>Unnamed: 228</th>\n",
       "      <th>Unnamed: 229</th>\n",
       "      <th>Unnamed: 230</th>\n",
       "      <th>Unnamed: 231</th>\n",
       "      <th>Unnamed: 232</th>\n",
       "      <th>Unnamed: 233</th>\n",
       "      <th>Unnamed: 234</th>\n",
       "      <th>Unnamed: 235</th>\n",
       "    </tr>\n",
       "  </thead>\n",
       "  <tbody>\n",
       "    <tr>\n",
       "      <th>0</th>\n",
       "      <td>AVwc__cikufWRAb51QjV</td>\n",
       "      <td>610 Commercial St</td>\n",
       "      <td>Restaurant Delivery Service,Restaurants,Pizza,...</td>\n",
       "      <td>Atchison</td>\n",
       "      <td>US</td>\n",
       "      <td>Restaurant Delivery Service</td>\n",
       "      <td>2016-03-02T11:49:34Z</td>\n",
       "      <td>2017-02-01T18:04:44Z</td>\n",
       "      <td>us/ks/atchison/610commercialst/-138126000</td>\n",
       "      <td>39.561570</td>\n",
       "      <td>...</td>\n",
       "      <td>NaN</td>\n",
       "      <td>NaN</td>\n",
       "      <td>NaN</td>\n",
       "      <td>NaN</td>\n",
       "      <td>NaN</td>\n",
       "      <td>NaN</td>\n",
       "      <td>NaN</td>\n",
       "      <td>NaN</td>\n",
       "      <td>NaN</td>\n",
       "      <td>NaN</td>\n",
       "    </tr>\n",
       "    <tr>\n",
       "      <th>1</th>\n",
       "      <td>AVwc__cikufWRAb51QjV</td>\n",
       "      <td>610 Commercial St</td>\n",
       "      <td>Restaurant Delivery Service,Restaurants,Pizza,...</td>\n",
       "      <td>Atchison</td>\n",
       "      <td>US</td>\n",
       "      <td>Restaurant Delivery Service</td>\n",
       "      <td>2016-03-02T11:49:34Z</td>\n",
       "      <td>2017-02-01T18:04:44Z</td>\n",
       "      <td>us/ks/atchison/610commercialst/-138126000</td>\n",
       "      <td>39.561570</td>\n",
       "      <td>...</td>\n",
       "      <td>NaN</td>\n",
       "      <td>NaN</td>\n",
       "      <td>NaN</td>\n",
       "      <td>NaN</td>\n",
       "      <td>NaN</td>\n",
       "      <td>NaN</td>\n",
       "      <td>NaN</td>\n",
       "      <td>NaN</td>\n",
       "      <td>NaN</td>\n",
       "      <td>NaN</td>\n",
       "    </tr>\n",
       "    <tr>\n",
       "      <th>2</th>\n",
       "      <td>AVwc__dF_7pvs4fz1Ncy</td>\n",
       "      <td>9521 Morton Davis Dr</td>\n",
       "      <td>Golf Course, American Restaurant, and Resort</td>\n",
       "      <td>Patterson</td>\n",
       "      <td>US</td>\n",
       "      <td>NaN</td>\n",
       "      <td>2016-10-14T01:58:25Z</td>\n",
       "      <td>2016-10-14T01:58:25Z</td>\n",
       "      <td>us/grayson/patterson/9521mortondavisdr/-522005016</td>\n",
       "      <td>37.401855</td>\n",
       "      <td>...</td>\n",
       "      <td>NaN</td>\n",
       "      <td>NaN</td>\n",
       "      <td>NaN</td>\n",
       "      <td>NaN</td>\n",
       "      <td>NaN</td>\n",
       "      <td>NaN</td>\n",
       "      <td>NaN</td>\n",
       "      <td>NaN</td>\n",
       "      <td>NaN</td>\n",
       "      <td>NaN</td>\n",
       "    </tr>\n",
       "    <tr>\n",
       "      <th>3</th>\n",
       "      <td>AVwc__kCByjofQCxkdm-</td>\n",
       "      <td>10550 W I 25 Frontage Rd</td>\n",
       "      <td>Fast Food Restaurant</td>\n",
       "      <td>Longmont</td>\n",
       "      <td>US</td>\n",
       "      <td>NaN</td>\n",
       "      <td>2016-09-09T17:30:34Z</td>\n",
       "      <td>2016-10-04T05:15:17Z</td>\n",
       "      <td>us/niwot/longmont/10550wi25frontagerd/-1161002137</td>\n",
       "      <td>NaN</td>\n",
       "      <td>...</td>\n",
       "      <td>NaN</td>\n",
       "      <td>NaN</td>\n",
       "      <td>NaN</td>\n",
       "      <td>NaN</td>\n",
       "      <td>NaN</td>\n",
       "      <td>NaN</td>\n",
       "      <td>NaN</td>\n",
       "      <td>NaN</td>\n",
       "      <td>NaN</td>\n",
       "      <td>NaN</td>\n",
       "    </tr>\n",
       "    <tr>\n",
       "      <th>4</th>\n",
       "      <td>AVwc__WtByjofQCxkdkR</td>\n",
       "      <td>8495 W 3rd St</td>\n",
       "      <td>Mexican Restaurant Mid-City West,Mexican Resta...</td>\n",
       "      <td>Los Angeles</td>\n",
       "      <td>US</td>\n",
       "      <td>Mexican</td>\n",
       "      <td>2016-05-19T11:50:25Z</td>\n",
       "      <td>2016-09-11T00:06:37Z</td>\n",
       "      <td>us/bicentennial/losangeles/8495w3rdst/-251199537</td>\n",
       "      <td>34.080724</td>\n",
       "      <td>...</td>\n",
       "      <td>NaN</td>\n",
       "      <td>NaN</td>\n",
       "      <td>NaN</td>\n",
       "      <td>NaN</td>\n",
       "      <td>NaN</td>\n",
       "      <td>NaN</td>\n",
       "      <td>NaN</td>\n",
       "      <td>NaN</td>\n",
       "      <td>NaN</td>\n",
       "      <td>NaN</td>\n",
       "    </tr>\n",
       "  </tbody>\n",
       "</table>\n",
       "<p>5 rows × 236 columns</p>\n",
       "</div>"
      ],
      "text/plain": [
       "                     id                   address  \\\n",
       "0  AVwc__cikufWRAb51QjV         610 Commercial St   \n",
       "1  AVwc__cikufWRAb51QjV         610 Commercial St   \n",
       "2  AVwc__dF_7pvs4fz1Ncy      9521 Morton Davis Dr   \n",
       "3  AVwc__kCByjofQCxkdm-  10550 W I 25 Frontage Rd   \n",
       "4  AVwc__WtByjofQCxkdkR             8495 W 3rd St   \n",
       "\n",
       "                                          categories         city country  \\\n",
       "0  Restaurant Delivery Service,Restaurants,Pizza,...     Atchison      US   \n",
       "1  Restaurant Delivery Service,Restaurants,Pizza,...     Atchison      US   \n",
       "2       Golf Course, American Restaurant, and Resort    Patterson      US   \n",
       "3                               Fast Food Restaurant     Longmont      US   \n",
       "4  Mexican Restaurant Mid-City West,Mexican Resta...  Los Angeles      US   \n",
       "\n",
       "                      cuisines             dateAdded           dateUpdated  \\\n",
       "0  Restaurant Delivery Service  2016-03-02T11:49:34Z  2017-02-01T18:04:44Z   \n",
       "1  Restaurant Delivery Service  2016-03-02T11:49:34Z  2017-02-01T18:04:44Z   \n",
       "2                          NaN  2016-10-14T01:58:25Z  2016-10-14T01:58:25Z   \n",
       "3                          NaN  2016-09-09T17:30:34Z  2016-10-04T05:15:17Z   \n",
       "4                      Mexican  2016-05-19T11:50:25Z  2016-09-11T00:06:37Z   \n",
       "\n",
       "                                                keys   latitude  ...  \\\n",
       "0          us/ks/atchison/610commercialst/-138126000  39.561570  ...   \n",
       "1          us/ks/atchison/610commercialst/-138126000  39.561570  ...   \n",
       "2  us/grayson/patterson/9521mortondavisdr/-522005016  37.401855  ...   \n",
       "3  us/niwot/longmont/10550wi25frontagerd/-1161002137        NaN  ...   \n",
       "4   us/bicentennial/losangeles/8495w3rdst/-251199537  34.080724  ...   \n",
       "\n",
       "   Unnamed: 226 Unnamed: 227  Unnamed: 228  Unnamed: 229 Unnamed: 230  \\\n",
       "0           NaN          NaN           NaN           NaN          NaN   \n",
       "1           NaN          NaN           NaN           NaN          NaN   \n",
       "2           NaN          NaN           NaN           NaN          NaN   \n",
       "3           NaN          NaN           NaN           NaN          NaN   \n",
       "4           NaN          NaN           NaN           NaN          NaN   \n",
       "\n",
       "  Unnamed: 231 Unnamed: 232 Unnamed: 233 Unnamed: 234 Unnamed: 235  \n",
       "0          NaN          NaN          NaN          NaN          NaN  \n",
       "1          NaN          NaN          NaN          NaN          NaN  \n",
       "2          NaN          NaN          NaN          NaN          NaN  \n",
       "3          NaN          NaN          NaN          NaN          NaN  \n",
       "4          NaN          NaN          NaN          NaN          NaN  \n",
       "\n",
       "[5 rows x 236 columns]"
      ]
     },
     "execution_count": 165,
     "metadata": {},
     "output_type": "execute_result"
    }
   ],
   "source": [
    "df.head()"
   ]
  },
  {
   "cell_type": "code",
   "execution_count": 166,
   "id": "3d64cfc3",
   "metadata": {},
   "outputs": [
    {
     "data": {
      "text/plain": [
       "Index(['id', 'address', 'categories', 'city', 'country', 'cuisines',\n",
       "       'dateAdded', 'dateUpdated', 'keys', 'latitude',\n",
       "       ...\n",
       "       'Unnamed: 226', 'Unnamed: 227', 'Unnamed: 228', 'Unnamed: 229',\n",
       "       'Unnamed: 230', 'Unnamed: 231', 'Unnamed: 232', 'Unnamed: 233',\n",
       "       'Unnamed: 234', 'Unnamed: 235'],\n",
       "      dtype='object', length=236)"
      ]
     },
     "execution_count": 166,
     "metadata": {},
     "output_type": "execute_result"
    }
   ],
   "source": [
    "df.columns"
   ]
  },
  {
   "cell_type": "markdown",
   "id": "6dd143eb",
   "metadata": {},
   "source": [
    "### Cleaning the Data"
   ]
  },
  {
   "cell_type": "code",
   "execution_count": 167,
   "id": "1bfe79ba",
   "metadata": {},
   "outputs": [],
   "source": [
    "# Filter to include only columns of interest to map\n",
    "\n",
    "df2 = df[['id','name','address','categories','city','country','dateAdded','dateUpdated',\n",
    "          'latitude','longitude','menus.amountMax','menus.amountMin','menus.currency',\n",
    "          'menus.description','menus.name','postalCode','priceRangeCurrency','priceRangeMin','priceRangeMax','province']]"
   ]
  },
  {
   "cell_type": "code",
   "execution_count": 168,
   "id": "8ba2ab6e",
   "metadata": {},
   "outputs": [
    {
     "data": {
      "text/html": [
       "<div>\n",
       "<style scoped>\n",
       "    .dataframe tbody tr th:only-of-type {\n",
       "        vertical-align: middle;\n",
       "    }\n",
       "\n",
       "    .dataframe tbody tr th {\n",
       "        vertical-align: top;\n",
       "    }\n",
       "\n",
       "    .dataframe thead th {\n",
       "        text-align: right;\n",
       "    }\n",
       "</style>\n",
       "<table border=\"1\" class=\"dataframe\">\n",
       "  <thead>\n",
       "    <tr style=\"text-align: right;\">\n",
       "      <th></th>\n",
       "      <th>id</th>\n",
       "      <th>name</th>\n",
       "      <th>address</th>\n",
       "      <th>categories</th>\n",
       "      <th>city</th>\n",
       "      <th>country</th>\n",
       "      <th>dateAdded</th>\n",
       "      <th>dateUpdated</th>\n",
       "      <th>latitude</th>\n",
       "      <th>longitude</th>\n",
       "      <th>menus.amountMax</th>\n",
       "      <th>menus.amountMin</th>\n",
       "      <th>menus.currency</th>\n",
       "      <th>menus.description</th>\n",
       "      <th>menus.name</th>\n",
       "      <th>postalCode</th>\n",
       "      <th>priceRangeCurrency</th>\n",
       "      <th>priceRangeMin</th>\n",
       "      <th>priceRangeMax</th>\n",
       "      <th>province</th>\n",
       "    </tr>\n",
       "  </thead>\n",
       "  <tbody>\n",
       "    <tr>\n",
       "      <th>0</th>\n",
       "      <td>AVwc__cikufWRAb51QjV</td>\n",
       "      <td>Gambino's Pizza</td>\n",
       "      <td>610 Commercial St</td>\n",
       "      <td>Restaurant Delivery Service,Restaurants,Pizza,...</td>\n",
       "      <td>Atchison</td>\n",
       "      <td>US</td>\n",
       "      <td>2016-03-02T11:49:34Z</td>\n",
       "      <td>2017-02-01T18:04:44Z</td>\n",
       "      <td>39.561570</td>\n",
       "      <td>-95.121020</td>\n",
       "      <td>NaN</td>\n",
       "      <td>NaN</td>\n",
       "      <td>NaN</td>\n",
       "      <td>NaN</td>\n",
       "      <td>Taco</td>\n",
       "      <td>66002</td>\n",
       "      <td>NaN</td>\n",
       "      <td>NaN</td>\n",
       "      <td>NaN</td>\n",
       "      <td>KS</td>\n",
       "    </tr>\n",
       "    <tr>\n",
       "      <th>1</th>\n",
       "      <td>AVwc__cikufWRAb51QjV</td>\n",
       "      <td>Gambino's Pizza</td>\n",
       "      <td>610 Commercial St</td>\n",
       "      <td>Restaurant Delivery Service,Restaurants,Pizza,...</td>\n",
       "      <td>Atchison</td>\n",
       "      <td>US</td>\n",
       "      <td>2016-03-02T11:49:34Z</td>\n",
       "      <td>2017-02-01T18:04:44Z</td>\n",
       "      <td>39.561570</td>\n",
       "      <td>-95.121020</td>\n",
       "      <td>NaN</td>\n",
       "      <td>NaN</td>\n",
       "      <td>NaN</td>\n",
       "      <td>Beef, onion, cheddar cheese, lettuce,  refried...</td>\n",
       "      <td>Taco</td>\n",
       "      <td>66002</td>\n",
       "      <td>NaN</td>\n",
       "      <td>NaN</td>\n",
       "      <td>NaN</td>\n",
       "      <td>KS</td>\n",
       "    </tr>\n",
       "    <tr>\n",
       "      <th>2</th>\n",
       "      <td>AVwc__dF_7pvs4fz1Ncy</td>\n",
       "      <td>Diablo Grande Golf &amp; Country Club</td>\n",
       "      <td>9521 Morton Davis Dr</td>\n",
       "      <td>Golf Course, American Restaurant, and Resort</td>\n",
       "      <td>Patterson</td>\n",
       "      <td>US</td>\n",
       "      <td>2016-10-14T01:58:25Z</td>\n",
       "      <td>2016-10-14T01:58:25Z</td>\n",
       "      <td>37.401855</td>\n",
       "      <td>-121.266703</td>\n",
       "      <td>NaN</td>\n",
       "      <td>NaN</td>\n",
       "      <td>NaN</td>\n",
       "      <td>Beef barbacoa or chicken, spanish rice, pico d...</td>\n",
       "      <td>Smotherd Burrito</td>\n",
       "      <td>95363</td>\n",
       "      <td>NaN</td>\n",
       "      <td>NaN</td>\n",
       "      <td>NaN</td>\n",
       "      <td>Grayson</td>\n",
       "    </tr>\n",
       "    <tr>\n",
       "      <th>3</th>\n",
       "      <td>AVwc__kCByjofQCxkdm-</td>\n",
       "      <td>Mcdonald's</td>\n",
       "      <td>10550 W I 25 Frontage Rd</td>\n",
       "      <td>Fast Food Restaurant</td>\n",
       "      <td>Longmont</td>\n",
       "      <td>US</td>\n",
       "      <td>2016-09-09T17:30:34Z</td>\n",
       "      <td>2016-10-04T05:15:17Z</td>\n",
       "      <td>NaN</td>\n",
       "      <td>NaN</td>\n",
       "      <td>NaN</td>\n",
       "      <td>NaN</td>\n",
       "      <td>NaN</td>\n",
       "      <td>NaN</td>\n",
       "      <td>Sausage Burrito</td>\n",
       "      <td>80504</td>\n",
       "      <td>NaN</td>\n",
       "      <td>NaN</td>\n",
       "      <td>NaN</td>\n",
       "      <td>Niwot</td>\n",
       "    </tr>\n",
       "    <tr>\n",
       "      <th>4</th>\n",
       "      <td>AVwc__WtByjofQCxkdkR</td>\n",
       "      <td>Baja Fresh Mexican Grill</td>\n",
       "      <td>8495 W 3rd St</td>\n",
       "      <td>Mexican Restaurant Mid-City West,Mexican Resta...</td>\n",
       "      <td>Los Angeles</td>\n",
       "      <td>US</td>\n",
       "      <td>2016-05-19T11:50:25Z</td>\n",
       "      <td>2016-09-11T00:06:37Z</td>\n",
       "      <td>34.080724</td>\n",
       "      <td>-118.389578</td>\n",
       "      <td>NaN</td>\n",
       "      <td>NaN</td>\n",
       "      <td>NaN</td>\n",
       "      <td>Wahoo, avocado, cabbage, pico de gallo  and av...</td>\n",
       "      <td>Wahoo Tacogrilled</td>\n",
       "      <td>90048</td>\n",
       "      <td>USD</td>\n",
       "      <td>0.0</td>\n",
       "      <td>25.0</td>\n",
       "      <td>Bicentennial</td>\n",
       "    </tr>\n",
       "  </tbody>\n",
       "</table>\n",
       "</div>"
      ],
      "text/plain": [
       "                     id                               name  \\\n",
       "0  AVwc__cikufWRAb51QjV                    Gambino's Pizza   \n",
       "1  AVwc__cikufWRAb51QjV                    Gambino's Pizza   \n",
       "2  AVwc__dF_7pvs4fz1Ncy  Diablo Grande Golf & Country Club   \n",
       "3  AVwc__kCByjofQCxkdm-                         Mcdonald's   \n",
       "4  AVwc__WtByjofQCxkdkR           Baja Fresh Mexican Grill   \n",
       "\n",
       "                    address  \\\n",
       "0         610 Commercial St   \n",
       "1         610 Commercial St   \n",
       "2      9521 Morton Davis Dr   \n",
       "3  10550 W I 25 Frontage Rd   \n",
       "4             8495 W 3rd St   \n",
       "\n",
       "                                          categories         city country  \\\n",
       "0  Restaurant Delivery Service,Restaurants,Pizza,...     Atchison      US   \n",
       "1  Restaurant Delivery Service,Restaurants,Pizza,...     Atchison      US   \n",
       "2       Golf Course, American Restaurant, and Resort    Patterson      US   \n",
       "3                               Fast Food Restaurant     Longmont      US   \n",
       "4  Mexican Restaurant Mid-City West,Mexican Resta...  Los Angeles      US   \n",
       "\n",
       "              dateAdded           dateUpdated   latitude   longitude  \\\n",
       "0  2016-03-02T11:49:34Z  2017-02-01T18:04:44Z  39.561570  -95.121020   \n",
       "1  2016-03-02T11:49:34Z  2017-02-01T18:04:44Z  39.561570  -95.121020   \n",
       "2  2016-10-14T01:58:25Z  2016-10-14T01:58:25Z  37.401855 -121.266703   \n",
       "3  2016-09-09T17:30:34Z  2016-10-04T05:15:17Z        NaN         NaN   \n",
       "4  2016-05-19T11:50:25Z  2016-09-11T00:06:37Z  34.080724 -118.389578   \n",
       "\n",
       "   menus.amountMax  menus.amountMin menus.currency  \\\n",
       "0              NaN              NaN            NaN   \n",
       "1              NaN              NaN            NaN   \n",
       "2              NaN              NaN            NaN   \n",
       "3              NaN              NaN            NaN   \n",
       "4              NaN              NaN            NaN   \n",
       "\n",
       "                                   menus.description         menus.name  \\\n",
       "0                                                NaN               Taco   \n",
       "1  Beef, onion, cheddar cheese, lettuce,  refried...               Taco   \n",
       "2  Beef barbacoa or chicken, spanish rice, pico d...   Smotherd Burrito   \n",
       "3                                                NaN    Sausage Burrito   \n",
       "4  Wahoo, avocado, cabbage, pico de gallo  and av...  Wahoo Tacogrilled   \n",
       "\n",
       "  postalCode priceRangeCurrency  priceRangeMin  priceRangeMax      province  \n",
       "0      66002                NaN            NaN            NaN            KS  \n",
       "1      66002                NaN            NaN            NaN            KS  \n",
       "2      95363                NaN            NaN            NaN       Grayson  \n",
       "3      80504                NaN            NaN            NaN         Niwot  \n",
       "4      90048                USD            0.0           25.0  Bicentennial  "
      ]
     },
     "execution_count": 168,
     "metadata": {},
     "output_type": "execute_result"
    }
   ],
   "source": [
    "df2.head()"
   ]
  },
  {
   "cell_type": "code",
   "execution_count": 169,
   "id": "dd90632f",
   "metadata": {},
   "outputs": [
    {
     "data": {
      "text/plain": [
       "id                     object\n",
       "name                   object\n",
       "address                object\n",
       "categories             object\n",
       "city                   object\n",
       "country                object\n",
       "dateAdded              object\n",
       "dateUpdated            object\n",
       "latitude              float64\n",
       "longitude             float64\n",
       "menus.amountMax       float64\n",
       "menus.amountMin       float64\n",
       "menus.currency         object\n",
       "menus.description      object\n",
       "menus.name             object\n",
       "postalCode             object\n",
       "priceRangeCurrency     object\n",
       "priceRangeMin         float64\n",
       "priceRangeMax         float64\n",
       "province               object\n",
       "dtype: object"
      ]
     },
     "execution_count": 169,
     "metadata": {},
     "output_type": "execute_result"
    }
   ],
   "source": [
    "# Check data types\n",
    "\n",
    "df2.dtypes"
   ]
  },
  {
   "cell_type": "code",
   "execution_count": 170,
   "id": "ca3b71bb",
   "metadata": {},
   "outputs": [
    {
     "name": "stdout",
     "output_type": "stream",
     "text": [
      "id                        0\n",
      "name                      3\n",
      "address                   0\n",
      "categories                0\n",
      "city                      0\n",
      "country                   0\n",
      "dateAdded                 0\n",
      "dateUpdated               0\n",
      "latitude              21624\n",
      "longitude             21624\n",
      "menus.amountMax       37000\n",
      "menus.amountMin       37000\n",
      "menus.currency        36749\n",
      "menus.description     47937\n",
      "menus.name                0\n",
      "postalCode              423\n",
      "priceRangeCurrency    29101\n",
      "priceRangeMin         29101\n",
      "priceRangeMax         29101\n",
      "province                  3\n",
      "dtype: int64\n"
     ]
    }
   ],
   "source": [
    "# Count the number of nulls in each row.\n",
    "\n",
    "nan_count = df2.isnull().sum()\n",
    "print(nan_count)"
   ]
  },
  {
   "cell_type": "code",
   "execution_count": 171,
   "id": "245c40a4",
   "metadata": {},
   "outputs": [
    {
     "name": "stdout",
     "output_type": "stream",
     "text": [
      "id                        0\n",
      "name                      0\n",
      "address                   0\n",
      "categories                0\n",
      "city                      0\n",
      "country                   0\n",
      "dateAdded                 0\n",
      "dateUpdated               0\n",
      "latitude                  0\n",
      "longitude                 0\n",
      "menus.amountMax           0\n",
      "menus.amountMin           0\n",
      "menus.currency            0\n",
      "menus.description     15552\n",
      "menus.name                0\n",
      "postalCode               95\n",
      "priceRangeCurrency     6194\n",
      "priceRangeMin          6194\n",
      "priceRangeMax          6194\n",
      "province                  0\n",
      "dtype: int64\n"
     ]
    }
   ],
   "source": [
    "# Since we only want to use data points that include a price, name, and a lat/long for the map vizualization, \n",
    "# drop all rows containing a null in the selected subset of columns\n",
    "\n",
    "df3 = df2.dropna(subset=['name','province','menus.amountMin','menus.amountMax','latitude','longitude'])\n",
    "\n",
    "# Count the nulls again.\n",
    "\n",
    "nan_count2 = df3.isnull().sum()\n",
    "print(nan_count2)"
   ]
  },
  {
   "cell_type": "code",
   "execution_count": 172,
   "id": "0a8c0335",
   "metadata": {},
   "outputs": [
    {
     "data": {
      "text/plain": [
       "id                    27131\n",
       "name                  27131\n",
       "address               27131\n",
       "categories            27131\n",
       "city                  27131\n",
       "country               27131\n",
       "dateAdded             27131\n",
       "dateUpdated           27131\n",
       "latitude              27131\n",
       "longitude             27131\n",
       "menus.amountMax       27131\n",
       "menus.amountMin       27131\n",
       "menus.currency        27131\n",
       "menus.description     11579\n",
       "menus.name            27131\n",
       "postalCode            27036\n",
       "priceRangeCurrency    20937\n",
       "priceRangeMin         20937\n",
       "priceRangeMax         20937\n",
       "province              27131\n",
       "dtype: int64"
      ]
     },
     "execution_count": 172,
     "metadata": {},
     "output_type": "execute_result"
    }
   ],
   "source": [
    "# Basic count to see how many rows are left. Seems like a usable amount of data.\n",
    "\n",
    "df3.count()"
   ]
  },
  {
   "cell_type": "code",
   "execution_count": 173,
   "id": "de0a703c",
   "metadata": {},
   "outputs": [
    {
     "name": "stderr",
     "output_type": "stream",
     "text": [
      "C:\\Users\\brend\\anaconda3\\envs\\mlenv\\lib\\site-packages\\pandas\\core\\indexing.py:1684: SettingWithCopyWarning: \n",
      "A value is trying to be set on a copy of a slice from a DataFrame.\n",
      "Try using .loc[row_indexer,col_indexer] = value instead\n",
      "\n",
      "See the caveats in the documentation: https://pandas.pydata.org/pandas-docs/stable/user_guide/indexing.html#returning-a-view-versus-a-copy\n",
      "  self.obj[key] = infer_fill_value(value)\n",
      "C:\\Users\\brend\\anaconda3\\envs\\mlenv\\lib\\site-packages\\pandas\\core\\indexing.py:1817: SettingWithCopyWarning: \n",
      "A value is trying to be set on a copy of a slice from a DataFrame.\n",
      "Try using .loc[row_indexer,col_indexer] = value instead\n",
      "\n",
      "See the caveats in the documentation: https://pandas.pydata.org/pandas-docs/stable/user_guide/indexing.html#returning-a-view-versus-a-copy\n",
      "  self._setitem_single_column(loc, value, pi)\n"
     ]
    }
   ],
   "source": [
    "# I will now create a column that will describe if the menu item is a taco or a burrito.\n",
    "\n",
    "df3.loc[df3['menus.name'].str.contains(\"Taco\"),'type'] = 'Taco'\n",
    "df3.loc[df3['menus.name'].str.contains(\"taco\"),'type'] = 'Taco'\n",
    "df3.loc[df3['menus.name'].str.contains(\"Burrito\"),'type'] = 'Burrito'\n",
    "df3.loc[df3['menus.name'].str.contains(\"burrito\"),'type'] = 'Burrito'"
   ]
  },
  {
   "cell_type": "code",
   "execution_count": 174,
   "id": "8441fca5",
   "metadata": {},
   "outputs": [
    {
     "data": {
      "text/plain": [
       "Taco       15432\n",
       "Burrito    11699\n",
       "Name: type, dtype: int64"
      ]
     },
     "execution_count": 174,
     "metadata": {},
     "output_type": "execute_result"
    }
   ],
   "source": [
    "# Checking the values of the new 'type' column\n",
    "\n",
    "df3['type'].value_counts()"
   ]
  },
  {
   "cell_type": "code",
   "execution_count": 175,
   "id": "b04ff1c7",
   "metadata": {},
   "outputs": [
    {
     "data": {
      "text/plain": [
       "0"
      ]
     },
     "execution_count": 175,
     "metadata": {},
     "output_type": "execute_result"
    }
   ],
   "source": [
    "# Checking for any nulls in the new 'type' column, the result of 0 meaning every menu name has been counted as taco or burrito.\n",
    "\n",
    "df3['type'].isnull().sum()"
   ]
  },
  {
   "cell_type": "code",
   "execution_count": 176,
   "id": "b5e44d4b",
   "metadata": {},
   "outputs": [
    {
     "data": {
      "text/plain": [
       "count    27131.000000\n",
       "mean         9.170290\n",
       "std         17.376436\n",
       "min          0.000000\n",
       "25%          5.500000\n",
       "50%          8.000000\n",
       "75%         10.990000\n",
       "max       1290.000000\n",
       "Name: menus.amountMin, dtype: float64"
      ]
     },
     "execution_count": 176,
     "metadata": {},
     "output_type": "execute_result"
    }
   ],
   "source": [
    "# Now looking for outliers in the pricing data.\n",
    "\n",
    "df3['menus.amountMin'].describe(include='all')"
   ]
  },
  {
   "cell_type": "code",
   "execution_count": 177,
   "id": "b0d5c754",
   "metadata": {},
   "outputs": [
    {
     "data": {
      "text/plain": [
       "count    27131.000000\n",
       "mean         9.345493\n",
       "std         20.924390\n",
       "min          0.000000\n",
       "25%          5.500000\n",
       "50%          8.000000\n",
       "75%         11.000000\n",
       "max       1990.000000\n",
       "Name: menus.amountMax, dtype: float64"
      ]
     },
     "execution_count": 177,
     "metadata": {},
     "output_type": "execute_result"
    }
   ],
   "source": [
    "df3['menus.amountMax'].describe(include='all')"
   ]
  },
  {
   "cell_type": "code",
   "execution_count": 178,
   "id": "f5c6b2ec",
   "metadata": {},
   "outputs": [
    {
     "data": {
      "image/png": "[encoded data removed]",
      "text/plain": [
       "<Figure size 640x480 with 1 Axes>"
      ]
     },
     "metadata": {},
     "output_type": "display_data"
    }
   ],
   "source": [
    "# Using Matplotlib to plot the normal distrubtion of the price ranges to see if we can use a simple 3-sigma rule to exclude outliers\n",
    "\n",
    "import matplotlib.pyplot as plt\n",
    "from scipy.stats import norm\n",
    "import statistics\n",
    "\n",
    "x_axis = np.sort(df3['menus.amountMin'])\n",
    "\n",
    "minmean = statistics.mean(x_axis)\n",
    "minstd = statistics.stdev(x_axis)\n",
    "\n",
    "plt.plot(x_axis, norm.pdf(x_axis, minmean, minstd))\n",
    "plt.show()"
   ]
  },
  {
   "cell_type": "code",
   "execution_count": 179,
   "id": "513cf65d",
   "metadata": {},
   "outputs": [],
   "source": [
    "# We'll use the 3-sigma rule to remove rows containing outliers. \n",
    "# This means for 'priceRangeMin' any value less than 3 standard deviations from the mean is considered an outlier\n",
    "# and any value greater than 3 standard deviations from the mean is also considered an outlier.\n",
    "# SciPy has a stats library with a zscore object that does this super easily.\n",
    "\n",
    "df4 = df3[(np.abs(stats.zscore(df3['menus.amountMin'])) < 3)]"
   ]
  },
  {
   "cell_type": "code",
   "execution_count": 180,
   "id": "56c3def9",
   "metadata": {},
   "outputs": [
    {
     "data": {
      "text/plain": [
       "count    27050.000000\n",
       "mean         8.559964\n",
       "std          4.686688\n",
       "min          0.000000\n",
       "25%          5.500000\n",
       "50%          8.000000\n",
       "75%         10.990000\n",
       "max         59.950000\n",
       "Name: menus.amountMin, dtype: float64"
      ]
     },
     "execution_count": 180,
     "metadata": {},
     "output_type": "execute_result"
    }
   ],
   "source": [
    "# Sure enough we have removed 10 rows of outliers and the max is now 50 (50 dollars for a taco??)\n",
    "\n",
    "df4['menus.amountMin'].describe(include='all')"
   ]
  },
  {
   "cell_type": "code",
   "execution_count": 181,
   "id": "2e7fd21d",
   "metadata": {},
   "outputs": [
    {
     "data": {
      "image/png": "[encoded data removed]",
      "text/plain": [
       "<Figure size 640x480 with 1 Axes>"
      ]
     },
     "metadata": {},
     "output_type": "display_data"
    }
   ],
   "source": [
    "x_axis = np.sort(df4['menus.amountMin'])\n",
    "\n",
    "minmean = statistics.mean(x_axis)\n",
    "minstd = statistics.stdev(x_axis)\n",
    "\n",
    "plt.plot(x_axis, norm.pdf(x_axis, minmean, minstd))\n",
    "plt.show()"
   ]
  },
  {
   "cell_type": "code",
   "execution_count": 190,
   "id": "5331629a",
   "metadata": {},
   "outputs": [
    {
     "data": {
      "text/plain": [
       "count    26801.000000\n",
       "mean         8.328260\n",
       "std          3.937278\n",
       "min          0.000000\n",
       "25%          5.500000\n",
       "50%          8.000000\n",
       "75%         10.950000\n",
       "max         23.950000\n",
       "Name: menus.amountMin, dtype: float64"
      ]
     },
     "execution_count": 190,
     "metadata": {},
     "output_type": "execute_result"
    }
   ],
   "source": [
    "# Still not happy with the distribution so going to just remove all values below 30.\n",
    "\n",
    "df5 = df4[df4['menus.amountMin'] < 24]\n",
    "df5['menus.amountMin'].describe(include='all')"
   ]
  },
  {
   "cell_type": "code",
   "execution_count": 191,
   "id": "64e926c2",
   "metadata": {},
   "outputs": [],
   "source": [
    "# Do it again for max\n",
    "\n",
    "df6 = df5[(np.abs(stats.zscore(df5['menus.amountMax'])) < 3)]"
   ]
  },
  {
   "cell_type": "code",
   "execution_count": 192,
   "id": "56935cf7",
   "metadata": {},
   "outputs": [
    {
     "data": {
      "text/plain": [
       "count    26797.000000\n",
       "mean         8.405520\n",
       "std          3.979699\n",
       "min          0.000000\n",
       "25%          5.500000\n",
       "50%          8.000000\n",
       "75%         10.990000\n",
       "max         30.300000\n",
       "Name: menus.amountMax, dtype: float64"
      ]
     },
     "execution_count": 192,
     "metadata": {},
     "output_type": "execute_result"
    }
   ],
   "source": [
    "df6['menus.amountMax'].describe(include='all')"
   ]
  },
  {
   "cell_type": "code",
   "execution_count": 193,
   "id": "7f66af85",
   "metadata": {},
   "outputs": [],
   "source": [
    "# We can now save as a new .csv to be brought into Tableau to make a map vizualization of burrito and taco prices!\n",
    "\n",
    "df6.to_csv('tacos_and_burritos_clean.csv')"
   ]
  },
  {
   "cell_type": "code",
   "execution_count": null,
   "id": "a97a634f",
   "metadata": {},
   "outputs": [],
   "source": []
  },
  {
   "cell_type": "code",
   "execution_count": null,
   "id": "6e8c5513",
   "metadata": {},
   "outputs": [],
   "source": []
  }
 ],
 "metadata": {
  "kernelspec": {
   "display_name": "mlenv",
   "language": "python",
   "name": "mlenv"
  },
  "language_info": {
   "codemirror_mode": {
    "name": "ipython",
    "version": 3
   },
   "file_extension": ".py",
   "mimetype": "text/x-python",
   "name": "python",
   "nbconvert_exporter": "python",
   "pygments_lexer": "ipython3",
   "version": "3.7.13"
  }
 },
 "nbformat": 4,
 "nbformat_minor": 5
}
